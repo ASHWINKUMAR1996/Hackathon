{
 "cells": [
  {
   "cell_type": "code",
   "execution_count": 79,
   "metadata": {
    "scrolled": false
   },
   "outputs": [
    {
     "name": "stdout",
     "output_type": "stream",
     "text": [
      "12\n",
      "3 7 8 5 12 14 21 13 18 22 24 20\n",
      "7.5\n",
      "13.5\n",
      "20.5\n"
     ]
    }
   ],
   "source": [
    "size=int(input())\n",
    "numbers=list(map(int,input().split()))\n",
    "numbers.sort()\n",
    "\n",
    "def median(a):\n",
    "    size=len(a)\n",
    "    if size%2==0:\n",
    "        return((a[size//2-1]+a[size//2])/2)\n",
    "    else:\n",
    "        return(a[size//2])\n",
    "\n",
    "q2=median(numbers)\n",
    "q1=median(numbers[0:(len(numbers)//2)])\n",
    "\n",
    "if len(numbers)%2!=0:\n",
    "    q3=median(numbers[(len(numbers)//2+1):])\n",
    "else:\n",
    "    q3=median(numbers[(len(numbers)//2):])\n",
    "\n",
    "print(int(q1))\n",
    "print(int(q2))\n",
    "print(int(q3))"
   ]
  },
  {
   "cell_type": "code",
   "execution_count": 21,
   "metadata": {},
   "outputs": [
    {
     "name": "stdout",
     "output_type": "stream",
     "text": [
      "6\n",
      "6 12 8 10 20 16\n",
      "5 4 3 2 1 5\n",
      "9\n"
     ]
    }
   ],
   "source": [
    "# Enter your code here. Read input from STDIN. Print output to STDOUT\n",
    "\n",
    "size=int(input())\n",
    "numbers=list(map(int,input().split()))\n",
    "freq=list(map(int,input().split()))\n",
    "data=[]\n",
    "\n",
    "iter=0\n",
    "for i in numbers:\n",
    "    data.extend([i for j in range(freq[iter])])\n",
    "    iter=iter+1\n",
    "\n",
    "data.sort()\n",
    "def median(a):\n",
    "    size=len(a)\n",
    "    if size%2==0:\n",
    "        return((a[size//2-1]+a[size//2])/2)\n",
    "    else:\n",
    "        return(a[size//2])\n",
    "\n",
    "q2=median(data)\n",
    "q1=median(data[0:(len(data)//2)])\n",
    "\n",
    "if len(data)%2!=0:\n",
    "    q3=median(data[(len(data)//2+1):])\n",
    "else:\n",
    "    q3=median(data[(len(data)//2):])\n",
    "    \n",
    "print(int(q3)-int(q1))"
   ]
  },
  {
   "cell_type": "code",
   "execution_count": 22,
   "metadata": {
    "scrolled": true
   },
   "outputs": [
    {
     "data": {
      "text/plain": [
       "[6, 6, 6, 6, 6, 8, 8, 8, 10, 10, 12, 12, 12, 12, 16, 16, 16, 16, 16, 20]"
      ]
     },
     "execution_count": 22,
     "metadata": {},
     "output_type": "execute_result"
    }
   ],
   "source": [
    "data"
   ]
  },
  {
   "cell_type": "code",
   "execution_count": 18,
   "metadata": {},
   "outputs": [
    {
     "data": {
      "text/plain": [
       "18.0"
      ]
     },
     "execution_count": 18,
     "metadata": {},
     "output_type": "execute_result"
    }
   ],
   "source": [
    "q3 "
   ]
  },
  {
   "cell_type": "code",
   "execution_count": 19,
   "metadata": {},
   "outputs": [
    {
     "data": {
      "text/plain": [
       "7.0"
      ]
     },
     "execution_count": 19,
     "metadata": {},
     "output_type": "execute_result"
    }
   ],
   "source": [
    "q1"
   ]
  },
  {
   "cell_type": "code",
   "execution_count": 20,
   "metadata": {},
   "outputs": [
    {
     "data": {
      "text/plain": [
       "10.0"
      ]
     },
     "execution_count": 20,
     "metadata": {},
     "output_type": "execute_result"
    }
   ],
   "source": [
    "q2"
   ]
  },
  {
   "cell_type": "code",
   "execution_count": 23,
   "metadata": {},
   "outputs": [
    {
     "data": {
      "text/plain": [
       "9.0"
      ]
     },
     "execution_count": 23,
     "metadata": {},
     "output_type": "execute_result"
    }
   ],
   "source": [
    "q3-q1"
   ]
  }
 ],
 "metadata": {
  "kernelspec": {
   "display_name": "Python 3",
   "language": "python",
   "name": "python3"
  },
  "toc": {
   "base_numbering": 1,
   "nav_menu": {},
   "number_sections": true,
   "sideBar": true,
   "skip_h1_title": false,
   "title_cell": "Table of Contents",
   "title_sidebar": "Contents",
   "toc_cell": false,
   "toc_position": {},
   "toc_section_display": true,
   "toc_window_display": false
  },
  "varInspector": {
   "cols": {
    "lenName": 16,
    "lenType": 16,
    "lenVar": 40
   },
   "kernels_config": {
    "python": {
     "delete_cmd_postfix": "",
     "delete_cmd_prefix": "del ",
     "library": "var_list.py",
     "varRefreshCmd": "print(var_dic_list())"
    },
    "r": {
     "delete_cmd_postfix": ") ",
     "delete_cmd_prefix": "rm(",
     "library": "var_list.r",
     "varRefreshCmd": "cat(var_dic_list()) "
    }
   },
   "types_to_exclude": [
    "module",
    "function",
    "builtin_function_or_method",
    "instance",
    "_Feature"
   ],
   "window_display": false
  }
 },
 "nbformat": 4,
 "nbformat_minor": 2
}
